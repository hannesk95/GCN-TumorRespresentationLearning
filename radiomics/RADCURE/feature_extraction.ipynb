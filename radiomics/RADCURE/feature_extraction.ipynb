{
 "cells": [
  {
   "cell_type": "code",
   "execution_count": 1,
   "id": "initial_id",
   "metadata": {},
   "outputs": [],
   "source": [
    "import os\n",
    "import sys\n",
    "import torch\n",
    "import radiomics\n",
    "import torchio as tio\n",
    "import SimpleITK as sitk\n",
    "\n",
    "from glob import glob\n",
    "from tqdm import tqdm\n",
    "from radiomics.featureextractor import RadiomicsFeatureExtractor\n",
    "from radiomics.imageoperations import checkMask\n",
    "\n",
    "import logging\n",
    "logger = logging.getLogger(\"radiomics\")\n",
    "logger.setLevel(logging.ERROR)"
   ]
  },
  {
   "cell_type": "code",
   "execution_count": 2,
   "id": "a32757f8-23d6-4f8b-9b8e-fa6cd99d9c0a",
   "metadata": {},
   "outputs": [
    {
     "name": "stdout",
     "output_type": "stream",
     "text": [
      "1204 1204\n",
      "All masks exist\n",
      "All imgs exist\n"
     ]
    }
   ],
   "source": [
    "images = sorted([file for file in glob(\"../../data/RADCURE/volume+seg/*image*\")])\n",
    "masks = sorted([file for file in glob(\"../../data/RADCURE/volume+seg/*segmentation*\")])\n",
    "\n",
    "print(len(images), len(masks))\n",
    "\n",
    "assert len(images) == len(masks)\n",
    "\n",
    "subjects = [filename.split(\"/\")[-1].split(\"_\")[0] for filename in images]\n",
    "\n",
    "all_masks_exist = True\n",
    "for file in masks:\n",
    "    if not os.path.exists(file):\n",
    "        print(f\"Mask does not exsist: {file}\")\n",
    "        all_masks_exist = False\n",
    "\n",
    "if all_masks_exist:\n",
    "    print(\"All masks exist\")\n",
    "\n",
    "all_imgs_exist = True\n",
    "for file in images:\n",
    "    if not os.path.exists(file):\n",
    "        print(f\"Image does not exsist: {file}\")\n",
    "        all_imgs_exist = False\n",
    "\n",
    "if all_imgs_exist:\n",
    "    print(\"All imgs exist\")"
   ]
  },
  {
   "cell_type": "code",
   "execution_count": 3,
   "id": "e658a463-f2d8-4c79-b76e-a75c51e3acc1",
   "metadata": {},
   "outputs": [
    {
     "name": "stderr",
     "output_type": "stream",
     "text": [
      "100%|█████████████████████████████████████████████████████████████████████████████████████████████████████████████████████████████████████████████████████████████████████████████████████████████████████████████████████████████████████████████████████████████████████████| 1204/1204 [3:15:45<00:00,  9.76s/it]\n"
     ]
    }
   ],
   "source": [
    "feature_list = []\n",
    "subjects_list = []\n",
    "\n",
    "paramFile = os.path.abspath(\"./Params-RADCURE.yaml\")\n",
    "\n",
    "feature_extractor = RadiomicsFeatureExtractor(paramFile)\n",
    "# resample = tio.transforms.Resample(target=1.0)\n",
    "\n",
    "for idx in tqdm(range(len(images))):       \n",
    "    \n",
    "    try:\n",
    "        img = tio.ScalarImage(images[idx])\n",
    "        seg = tio.transforms.Resample(target=img)(tio.LabelMap(masks[idx]))\n",
    "        \n",
    "        subject = tio.Subject(volume=img, segmentation=seg)\n",
    "\n",
    "        # subject = resample(subject)\n",
    "        features = feature_extractor.execute(subject.volume.as_sitk(), subject.segmentation.as_sitk(), label=255)\n",
    "        feature_list.append(features)\n",
    "        subjects_list.append(subjects[idx])\n",
    "\n",
    "    except Exception as e:\n",
    "        print(e)        \n",
    "        print(images[idx])\n",
    "        continue\n",
    "\n",
    "torch.save(feature_list, f\"./radiomics_features_RADCURE_new2.pt\")\n",
    "torch.save(subjects_list, f\"./subjects_RADCURE_new2.pt\")"
   ]
  },
  {
   "cell_type": "code",
   "execution_count": 4,
   "id": "9a4dd20d-d12f-47a0-8bd6-3ef09ad6de2b",
   "metadata": {},
   "outputs": [
    {
     "data": {
      "text/plain": [
       "1283"
      ]
     },
     "execution_count": 4,
     "metadata": {},
     "output_type": "execute_result"
    }
   ],
   "source": [
    "len(features.keys())"
   ]
  },
  {
   "cell_type": "code",
   "execution_count": 5,
   "id": "71927507-b457-4616-b876-6f21d298b05a",
   "metadata": {},
   "outputs": [],
   "source": [
    "original_features = []\n",
    "wavelet_features = []\n",
    "log_features = []\n",
    "others = []\n",
    "\n",
    "for feature in features.keys():\n",
    "    if feature.startswith(\"original\"):\n",
    "        original_features.append(feature)\n",
    "\n",
    "    elif feature.startswith(\"wavelet\"):\n",
    "        wavelet_features.append(feature)\n",
    "\n",
    "    elif feature.startswith(\"log\"):\n",
    "        log_features.append(feature)\n",
    "\n",
    "    else:\n",
    "        others.append(feature)"
   ]
  },
  {
   "cell_type": "code",
   "execution_count": 6,
   "id": "e65d1fce-6877-42ed-81db-6903f2171dea",
   "metadata": {},
   "outputs": [
    {
     "data": {
      "text/plain": [
       "102"
      ]
     },
     "execution_count": 6,
     "metadata": {},
     "output_type": "execute_result"
    }
   ],
   "source": [
    "len(original_features)"
   ]
  },
  {
   "cell_type": "code",
   "execution_count": 7,
   "id": "40d4d145-3568-4395-b7fd-6ab67bd2d106",
   "metadata": {},
   "outputs": [
    {
     "data": {
      "text/plain": [
       "704"
      ]
     },
     "execution_count": 7,
     "metadata": {},
     "output_type": "execute_result"
    }
   ],
   "source": [
    "len(wavelet_features)"
   ]
  },
  {
   "cell_type": "code",
   "execution_count": 8,
   "id": "9ac8cc05-016f-411f-9589-1b95be7abcd0",
   "metadata": {},
   "outputs": [
    {
     "data": {
      "text/plain": [
       "440"
      ]
     },
     "execution_count": 8,
     "metadata": {},
     "output_type": "execute_result"
    }
   ],
   "source": [
    "len(log_features)"
   ]
  },
  {
   "cell_type": "code",
   "execution_count": 9,
   "id": "9300cdd9-59a7-4c22-a066-fc1835273400",
   "metadata": {},
   "outputs": [
    {
     "data": {
      "text/plain": [
       "1246"
      ]
     },
     "execution_count": 9,
     "metadata": {},
     "output_type": "execute_result"
    }
   ],
   "source": [
    "len(original_features) + len(wavelet_features) + len(log_features)"
   ]
  }
 ],
 "metadata": {
  "kernelspec": {
   "display_name": "Python 3 (ipykernel)",
   "language": "python",
   "name": "python3"
  },
  "language_info": {
   "codemirror_mode": {
    "name": "ipython",
    "version": 3
   },
   "file_extension": ".py",
   "mimetype": "text/x-python",
   "name": "python",
   "nbconvert_exporter": "python",
   "pygments_lexer": "ipython3",
   "version": "3.9.18"
  }
 },
 "nbformat": 4,
 "nbformat_minor": 5
}

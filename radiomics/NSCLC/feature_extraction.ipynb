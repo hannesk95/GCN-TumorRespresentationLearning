{
 "cells": [
  {
   "cell_type": "code",
   "execution_count": 1,
   "id": "initial_id",
   "metadata": {},
   "outputs": [],
   "source": [
    "import os\n",
    "import sys\n",
    "import torch\n",
    "import radiomics\n",
    "import torchio as tio\n",
    "import SimpleITK as sitk\n",
    "import numpy as np\n",
    "\n",
    "from glob import glob\n",
    "from tqdm import tqdm\n",
    "from sklearn.model_selection import train_test_split\n",
    "from radiomics.featureextractor import RadiomicsFeatureExtractor\n",
    "from radiomics.imageoperations import checkMask\n",
    "\n",
    "import logging\n",
    "logger = logging.getLogger(\"radiomics\")\n",
    "logger.setLevel(logging.ERROR)"
   ]
  },
  {
   "cell_type": "code",
   "execution_count": 2,
   "id": "a32757f8-23d6-4f8b-9b8e-fa6cd99d9c0a",
   "metadata": {},
   "outputs": [],
   "source": [
    "# imgs_interobserver = sorted([file for file in glob(\"../../data/NSCLC-Interobserver/volume+seg/*image*\")])\n",
    "# masks_interobserver = sorted([file for file in glob(\"../../data/NSCLC-Interobserver/volume+seg/*segmentation*\")])\n",
    "\n",
    "# imgs_radiomics = sorted([file for file in glob(\"../../data/NSCLC-Radiomics/volume+seg/*image*\")])\n",
    "# masks_radiomics = sorted([file for file in glob(\"../../data/NSCLC-Radiomics/volume+seg/*segmentation*\")])\n",
    "\n",
    "# imgs_radiogenomics = sorted([file for file in glob(\"../../data/NSCLC-Radiogenomics/volume+seg/*image*\")])\n",
    "# masks_radiogenomics = sorted([file for file in glob(\"../../data/NSCLC-Radiogenomics/volume+seg/*segmentation*\")])\n",
    "\n",
    "# images = imgs_interobserver+imgs_radiomics+imgs_radiogenomics\n",
    "# masks = masks_interobserver+masks_radiomics+masks_radiogenomics\n",
    "\n",
    "# print(len(images), len(masks))\n",
    "\n",
    "# assert len(images) == len(masks)\n",
    "\n",
    "# subjects = [filename.split(\"/\")[-1].split(\"_\")[0] for filename in images]\n",
    "\n",
    "# all_masks_exist = True\n",
    "# for file in masks:\n",
    "#     if not os.path.exists(file):\n",
    "#         print(f\"Mask does not exsist: {file}\")\n",
    "#         all_masks_exist = False\n",
    "\n",
    "# if all_masks_exist:\n",
    "#     print(\"All masks exist\")\n",
    "\n",
    "# all_imgs_exist = True\n",
    "# for file in images:\n",
    "#     if not os.path.exists(file):\n",
    "#         print(f\"Image does not exsist: {file}\")\n",
    "#         all_imgs_exist = False\n",
    "\n",
    "# if all_imgs_exist:\n",
    "#     print(\"All imgs exist\")"
   ]
  },
  {
   "cell_type": "code",
   "execution_count": 3,
   "id": "cc6ee094",
   "metadata": {},
   "outputs": [],
   "source": [
    "all_filepaths = glob(\"/media/johannes/WD Elements/NSCLC_Stefan/median_resampled+max_cropped/*image.nii.gz\")\n",
    "all_labels = glob(\"/media/johannes/WD Elements/NSCLC_Stefan/labels/*\")\n",
    "all_labels_ids = [label.split(\"/\")[-1].split(\"_\")[0] for label in all_labels]\n",
    "\n",
    "images = sorted([file for file in all_filepaths if file.split(\"/\")[-1].split(\"_\")[0] in all_labels_ids])\n",
    "masks = [img.replace(\"image\", \"label\") for img in images]\n",
    "subjects = [filename.split(\"/\")[-1].split(\"_\")[0] for filename in images]\n",
    "\n",
    "files_ids = [file.split(\"/\")[-1].split(\"_\")[0] for file in images]\n",
    "\n",
    "labels = sorted([label for label in all_labels if label.split(\"/\")[-1].split(\"_\")[0] in files_ids])\n",
    "labels_binary = [0 if \"adeno\" in label else 1 if \"squamous\" in label else np.nan for label in labels]\n",
    "\n",
    "assert len(images) == len(masks) == len(subjects) == len(labels_binary)!= 0"
   ]
  },
  {
   "cell_type": "code",
   "execution_count": 4,
   "id": "e658a463-f2d8-4c79-b76e-a75c51e3acc1",
   "metadata": {},
   "outputs": [
    {
     "name": "stderr",
     "output_type": "stream",
     "text": [
      "  0%|          | 0/359 [00:00<?, ?it/s]"
     ]
    },
    {
     "name": "stderr",
     "output_type": "stream",
     "text": [
      "100%|██████████| 359/359 [08:57<00:00,  1.50s/it]\n"
     ]
    }
   ],
   "source": [
    "feature_list = []\n",
    "subjects_list = []\n",
    "label_list = []\n",
    "\n",
    "paramFile = os.path.abspath(\"./Params-NSCLC.yaml\")\n",
    "\n",
    "feature_extractor = RadiomicsFeatureExtractor(paramFile)\n",
    "# resample = tio.transforms.Resample(target=1.0)\n",
    "\n",
    "for idx in tqdm(range(len(images))):       \n",
    "    \n",
    "    # try:\n",
    "    img = tio.ScalarImage(images[idx])\n",
    "    seg = tio.transforms.Resample(target=img)(tio.LabelMap(masks[idx]))\n",
    "    \n",
    "    subject = tio.Subject(volume=img, segmentation=seg)\n",
    "\n",
    "    # subject = resample(subject)\n",
    "    features = feature_extractor.execute(subject.volume.as_sitk(), subject.segmentation.as_sitk(), label=1)\n",
    "    feature_list.append(features)\n",
    "    subjects_list.append(subjects[idx])\n",
    "    label_list.append(labels_binary[idx])\n",
    "\n",
    "    # except Exception as e:\n",
    "    #     print(e)        \n",
    "    #     print(images[idx])\n",
    "    #     continue\n",
    "\n",
    "torch.save(feature_list, f\"./NSCLC_features.pt\")\n",
    "torch.save(subjects_list, f\"./NSCLC_subjects.pt\")\n",
    "torch.save(label_list,  f\"./NSCLC_labels.pt\")"
   ]
  },
  {
   "cell_type": "code",
   "execution_count": 4,
   "id": "71927507-b457-4616-b876-6f21d298b05a",
   "metadata": {},
   "outputs": [
    {
     "data": {
      "text/plain": [
       "843"
      ]
     },
     "execution_count": 4,
     "metadata": {},
     "output_type": "execute_result"
    }
   ],
   "source": [
    "len(features.keys())"
   ]
  },
  {
   "cell_type": "code",
   "execution_count": 5,
   "id": "c2c20783-77af-4e55-9522-1674509e4a6f",
   "metadata": {},
   "outputs": [],
   "source": [
    "original_features = []\n",
    "wavelet_features = []\n",
    "others = []\n",
    "\n",
    "for feature in features.keys():\n",
    "    if feature.startswith(\"original\"):\n",
    "        original_features.append(feature)\n",
    "\n",
    "    elif feature.startswith(\"wavelet\"):\n",
    "        wavelet_features.append(feature)\n",
    "\n",
    "    else:\n",
    "        others.append(feature)"
   ]
  },
  {
   "cell_type": "code",
   "execution_count": 6,
   "id": "5cbc84c9-c46d-41f1-abeb-7b9a0c5dafb4",
   "metadata": {},
   "outputs": [
    {
     "data": {
      "text/plain": [
       "102"
      ]
     },
     "execution_count": 6,
     "metadata": {},
     "output_type": "execute_result"
    }
   ],
   "source": [
    "len(original_features)"
   ]
  },
  {
   "cell_type": "code",
   "execution_count": 7,
   "id": "ac137cbf-6cc5-4cee-9328-45dfebe507be",
   "metadata": {},
   "outputs": [
    {
     "data": {
      "text/plain": [
       "704"
      ]
     },
     "execution_count": 7,
     "metadata": {},
     "output_type": "execute_result"
    }
   ],
   "source": [
    "len(wavelet_features)"
   ]
  },
  {
   "cell_type": "code",
   "execution_count": 8,
   "id": "8f1b3506-3ad9-4b99-9e78-8f1d4d28c49a",
   "metadata": {},
   "outputs": [
    {
     "data": {
      "text/plain": [
       "806"
      ]
     },
     "execution_count": 8,
     "metadata": {},
     "output_type": "execute_result"
    }
   ],
   "source": [
    "len(original_features) + len(wavelet_features)"
   ]
  },
  {
   "cell_type": "code",
   "execution_count": null,
   "id": "76910b30-4e82-4aac-86fa-7d380e5a14fd",
   "metadata": {},
   "outputs": [],
   "source": []
  },
  {
   "cell_type": "code",
   "execution_count": null,
   "id": "56ef0476-b929-4bcd-a6c0-b9c73680231b",
   "metadata": {},
   "outputs": [],
   "source": []
  }
 ],
 "metadata": {
  "kernelspec": {
   "display_name": "Python 3 (ipykernel)",
   "language": "python",
   "name": "python3"
  },
  "language_info": {
   "codemirror_mode": {
    "name": "ipython",
    "version": 3
   },
   "file_extension": ".py",
   "mimetype": "text/x-python",
   "name": "python",
   "nbconvert_exporter": "python",
   "pygments_lexer": "ipython3",
   "version": "3.8.18"
  }
 },
 "nbformat": 4,
 "nbformat_minor": 5
}
